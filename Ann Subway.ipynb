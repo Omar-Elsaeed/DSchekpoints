{
 "cells": [
  {
   "cell_type": "code",
   "execution_count": 35,
   "metadata": {},
   "outputs": [
    {
     "name": "stdout",
     "output_type": "stream",
     "text": [
      "15 4 1 3\n",
      "[15, 4, 1, 3]\n",
      "12\n"
     ]
    }
   ],
   "source": [
    "z=[int(x) for x in input().split()]\n",
    "print(z)\n",
    "n=z[0]   #no of rides\n",
    "m=z[1]   #no of rides by special ticket\n",
    "a=z[2]   #price of normal ticket\n",
    "b=z[3]   #price of special ticket\n",
    "\n",
    "ref=n*a        #referance of no of rides by the price of the ticket\n",
    "\n",
    "#if ref<special:\n",
    "    #print(ref)\n",
    "c=int(n/m)\n",
    "special=c*b+(n%m)*a\n",
    "if ref<special:\n",
    "    print(ref)\n",
    "else:\n",
    "    print(special)"
   ]
  },
  {
   "cell_type": "code",
   "execution_count": 34,
   "metadata": {},
   "outputs": [
    {
     "name": "stdout",
     "output_type": "stream",
     "text": [
      "4\n"
     ]
    }
   ],
   "source": []
  },
  {
   "cell_type": "code",
   "execution_count": null,
   "metadata": {},
   "outputs": [],
   "source": []
  }
 ],
 "metadata": {
  "kernelspec": {
   "display_name": "Python 3",
   "language": "python",
   "name": "python3"
  },
  "language_info": {
   "codemirror_mode": {
    "name": "ipython",
    "version": 3
   },
   "file_extension": ".py",
   "mimetype": "text/x-python",
   "name": "python",
   "nbconvert_exporter": "python",
   "pygments_lexer": "ipython3",
   "version": "3.7.6"
  }
 },
 "nbformat": 4,
 "nbformat_minor": 4
}
