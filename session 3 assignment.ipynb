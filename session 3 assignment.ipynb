{
 "cells": [
  {
   "cell_type": "markdown",
   "id": "e5c203df",
   "metadata": {},
   "source": [
    "First Assignment"
   ]
  },
  {
   "cell_type": "code",
   "execution_count": 1,
   "id": "d51291d6",
   "metadata": {},
   "outputs": [],
   "source": [
    "#import library's\n",
    "import os\n",
    "import numpy as np\n",
    "import pandas as pd\n",
    "import matplotlib \n",
    "from collections import OrderedDict"
   ]
  },
  {
   "cell_type": "code",
   "execution_count": 24,
   "id": "63956dc9",
   "metadata": {},
   "outputs": [
    {
     "name": "stdout",
     "output_type": "stream",
     "text": [
      "enter the sequence of numbers : 1, 3, 5, 6\n",
      "List :  ['1', ' 3', ' 5', ' 6']\n",
      "Tuple :  ('1', ' 3', ' 5', ' 6')\n"
     ]
    }
   ],
   "source": [
    "#Assignment program to give a list and tuple of that accepts a sequence of comma separated numbers from user#\n",
    "nums = input(\"enter the sequence of numbers : \")\n",
    "list = nums.split(\",\")\n",
    "tuple = tuple(list)\n",
    "print('List : ',list)\n",
    "print('Tuple : ',tuple)"
   ]
  },
  {
   "cell_type": "code",
   "execution_count": 2,
   "id": "605e8632",
   "metadata": {},
   "outputs": [
    {
     "name": "stdout",
     "output_type": "stream",
     "text": [
      "{'brand': 'Bmw', 'model': 'x5', 'year': 2022}\n"
     ]
    }
   ],
   "source": [
    "#Assignment for Dictionary's method's\n",
    "dict1 = {\"brand\" : \"Bmw\",\n",
    "         \"model\": \"x5\",\n",
    "         \"year\": 2022\n",
    "        }\n",
    "print(dict1)"
   ]
  },
  {
   "cell_type": "code",
   "execution_count": 3,
   "id": "0f13dbec",
   "metadata": {},
   "outputs": [
    {
     "name": "stdout",
     "output_type": "stream",
     "text": [
      "None\n"
     ]
    }
   ],
   "source": [
    "#Assignment for Dictionary's method's\n",
    "dict1 = {\"brand\" : \"Bmw\",\n",
    "         \"model\": \"x5\",\n",
    "         \"year\": 2022\n",
    "        }\n",
    "print(dict1.clear())"
   ]
  },
  {
   "cell_type": "code",
   "execution_count": 4,
   "id": "105211b1",
   "metadata": {
    "scrolled": true
   },
   "outputs": [
    {
     "name": "stdout",
     "output_type": "stream",
     "text": [
      "{'brand': 'Bmw', 'model': 'x5', 'year': 2022}\n"
     ]
    }
   ],
   "source": [
    "#Assignment for Dictionary's method's\n",
    "\n",
    "dict1 = {\"brand\" : \"Bmw\",\n",
    "         \"model\": \"x5\",\n",
    "         \"year\": 2022\n",
    "        }\n",
    "print(dict1.copy())"
   ]
  },
  {
   "cell_type": "code",
   "execution_count": 7,
   "id": "e0a74c6a",
   "metadata": {},
   "outputs": [
    {
     "name": "stdout",
     "output_type": "stream",
     "text": [
      "{'b': None, 'r': None, 'a': None, 'n': None, 'd': None}\n"
     ]
    }
   ],
   "source": [
    "#Assignment for Dictionary's method's\n",
    "\n",
    "dict1 = {\"brand\" : \"Bmw\",\n",
    "         \"model\": \"x5\",\n",
    "         \"year\": 2022\n",
    "        }\n",
    "print(dict1.fromkeys(\"brand\"))"
   ]
  },
  {
   "cell_type": "code",
   "execution_count": 8,
   "id": "9d761e00",
   "metadata": {},
   "outputs": [
    {
     "name": "stdout",
     "output_type": "stream",
     "text": [
      "2022\n"
     ]
    }
   ],
   "source": [
    "#Assignment for Dictionary's method's\n",
    "\n",
    "dict1 = {\"brand\" : \"Bmw\",\n",
    "         \"model\": \"x5\",\n",
    "         \"year\": 2022\n",
    "        }\n",
    "print(dict1.get(\"year\"))"
   ]
  },
  {
   "cell_type": "code",
   "execution_count": 18,
   "id": "6a160fe6",
   "metadata": {
    "scrolled": true
   },
   "outputs": [
    {
     "name": "stdout",
     "output_type": "stream",
     "text": [
      "dict_keys(['brand', 'model', 'year'])\n"
     ]
    }
   ],
   "source": [
    "#Assignment for Dictionary's method's\n",
    "\n",
    "dict1 = {\"brand\" : \"Bmw\",\n",
    "         \"model\": \"x5\",\n",
    "         \"year\": 2022\n",
    "        }\n",
    "print(dict1.keys())"
   ]
  },
  {
   "cell_type": "code",
   "execution_count": 19,
   "id": "958d06ca",
   "metadata": {},
   "outputs": [
    {
     "name": "stdout",
     "output_type": "stream",
     "text": [
      "dict_items([('brand', 'Bmw'), ('model', 'x5'), ('year', 2022)])\n"
     ]
    }
   ],
   "source": [
    "#Assignment for Dictionary's method's\n",
    "\n",
    "dict1 = {\"brand\" : \"Bmw\",\n",
    "         \"model\": \"x5\",\n",
    "         \"year\": 2022\n",
    "        }\n",
    "print(dict1.items())"
   ]
  },
  {
   "cell_type": "code",
   "execution_count": 20,
   "id": "cd680e09",
   "metadata": {},
   "outputs": [
    {
     "name": "stdout",
     "output_type": "stream",
     "text": [
      "dict_values(['Bmw', 'x5', 2022])\n"
     ]
    }
   ],
   "source": [
    "#Assignment for Dictionary's method's\n",
    "\n",
    "dict1 = {\"brand\" : \"Bmw\",\n",
    "         \"model\": \"x5\",\n",
    "         \"year\": 2022\n",
    "        }\n",
    "print(dict1.values())"
   ]
  },
  {
   "cell_type": "code",
   "execution_count": 36,
   "id": "62209551",
   "metadata": {},
   "outputs": [
    {
     "name": "stdout",
     "output_type": "stream",
     "text": [
      "{'brand': 'Bmw', 'model': 'x5', 'year': 2022, 'speed': 360}\n"
     ]
    }
   ],
   "source": [
    "#Assignment for Dictionary's method's\n",
    "\n",
    "dict1 = {\"brand\" : \"Bmw\",\n",
    "         \"model\": \"x5\",\n",
    "         \"year\": 2022\n",
    "        }\n",
    "dict1.update({\"speed\" : 360})\n",
    "print(dict1)"
   ]
  },
  {
   "cell_type": "code",
   "execution_count": 39,
   "id": "6ccd9ae1",
   "metadata": {},
   "outputs": [
    {
     "ename": "AttributeError",
     "evalue": "'dict' object has no attribute 'has_kyes'",
     "output_type": "error",
     "traceback": [
      "\u001b[1;31m---------------------------------------------------------------------------\u001b[0m",
      "\u001b[1;31mAttributeError\u001b[0m                            Traceback (most recent call last)",
      "Input \u001b[1;32mIn [39]\u001b[0m, in \u001b[0;36m<cell line: 8>\u001b[1;34m()\u001b[0m\n\u001b[0;32m      1\u001b[0m \u001b[38;5;66;03m### it's not going to work ###\u001b[39;00m\n\u001b[0;32m      2\u001b[0m \u001b[38;5;66;03m### when i look for it on google search i did'nt found it ###\u001b[39;00m\n\u001b[0;32m      4\u001b[0m dict1 \u001b[38;5;241m=\u001b[39m {\u001b[38;5;124m\"\u001b[39m\u001b[38;5;124mbrand\u001b[39m\u001b[38;5;124m\"\u001b[39m : \u001b[38;5;124m\"\u001b[39m\u001b[38;5;124mBmw\u001b[39m\u001b[38;5;124m\"\u001b[39m,\n\u001b[0;32m      5\u001b[0m          \u001b[38;5;124m\"\u001b[39m\u001b[38;5;124mmodel\u001b[39m\u001b[38;5;124m\"\u001b[39m: \u001b[38;5;124m\"\u001b[39m\u001b[38;5;124mx5\u001b[39m\u001b[38;5;124m\"\u001b[39m,\n\u001b[0;32m      6\u001b[0m          \u001b[38;5;124m\"\u001b[39m\u001b[38;5;124myear\u001b[39m\u001b[38;5;124m\"\u001b[39m: \u001b[38;5;241m2022\u001b[39m\n\u001b[0;32m      7\u001b[0m         }\n\u001b[1;32m----> 8\u001b[0m \u001b[38;5;28mprint\u001b[39m(\u001b[43mdict1\u001b[49m\u001b[38;5;241;43m.\u001b[39;49m\u001b[43mhas_kyes\u001b[49m())\n",
      "\u001b[1;31mAttributeError\u001b[0m: 'dict' object has no attribute 'has_kyes'"
     ]
    }
   ],
   "source": [
    "### it's not going to work ###\n",
    "### when i look for it on google search i did'nt found it ###\n",
    "\n",
    "dict1 = {\"brand\" : \"Bmw\",\n",
    "         \"model\": \"x5\",\n",
    "         \"year\": 2022\n",
    "        }\n",
    "print(dict1.has_kyes())"
   ]
  },
  {
   "cell_type": "markdown",
   "id": "adaae847",
   "metadata": {},
   "source": [
    "### Write a Python program to swap two variables.\n"
   ]
  },
  {
   "cell_type": "code",
   "execution_count": 40,
   "id": "41a12bbe",
   "metadata": {},
   "outputs": [
    {
     "name": "stdout",
     "output_type": "stream",
     "text": [
      "1960 ford_mustange\n"
     ]
    }
   ],
   "source": [
    "##first idea \n",
    "x = \"ford_mustange\"\n",
    "y = int(1960)\n",
    "print(y,x)"
   ]
  },
  {
   "cell_type": "code",
   "execution_count": 42,
   "id": "3e579561",
   "metadata": {},
   "outputs": [
    {
     "name": "stdout",
     "output_type": "stream",
     "text": [
      "Value of x: 1960\n",
      "Value of y: ford\n"
     ]
    }
   ],
   "source": [
    "## second idea\n",
    "x = \"ford\"\n",
    "y = int(1960)\n",
    "temp = x \n",
    "x = y\n",
    "y = temp\n",
    "print(\"Value of x:\",x)\n",
    "print(\"Value of y:\",y)"
   ]
  },
  {
   "cell_type": "markdown",
   "id": "9e88ea0a",
   "metadata": {},
   "source": [
    "## Dictionaries"
   ]
  },
  {
   "cell_type": "code",
   "execution_count": 68,
   "id": "c9d1dfd0",
   "metadata": {},
   "outputs": [
    {
     "name": "stdout",
     "output_type": "stream",
     "text": [
      "hello\n"
     ]
    }
   ],
   "source": [
    "# Grab 'hello'\n",
    "\n",
    "dict= {\"simple_key\":\"hello\"}\n",
    "#keys_list = list(dict)\n",
    "#key = keys_list\n",
    "#x = dict.values()\n",
    "#print(dict.values())\n",
    "print(dict['simple_key'])"
   ]
  },
  {
   "cell_type": "code",
   "execution_count": 65,
   "id": "259229f2",
   "metadata": {},
   "outputs": [
    {
     "name": "stdout",
     "output_type": "stream",
     "text": [
      "hello\n"
     ]
    }
   ],
   "source": [
    "dict = {'k1':{'k2':'hello'}}\n",
    "print(dict['k1']['k2'])\n"
   ]
  },
  {
   "cell_type": "code",
   "execution_count": 66,
   "id": "eb576589",
   "metadata": {
    "scrolled": true
   },
   "outputs": [
    {
     "name": "stdout",
     "output_type": "stream",
     "text": [
      "hello\n"
     ]
    }
   ],
   "source": [
    "#it's take too much time and trying to get the correct code finally i get the code\n",
    "### hope to get will\n",
    "dict = {'k1':\n",
    "        [{'nest_key':\n",
    "          ['this is deep',['hello']]}]}\n",
    "print(dict['k1'][0]['nest_key'][1][0])"
   ]
  },
  {
   "cell_type": "code",
   "execution_count": 69,
   "id": "af0c723f",
   "metadata": {},
   "outputs": [
    {
     "name": "stdout",
     "output_type": "stream",
     "text": [
      "hello\n"
     ]
    }
   ],
   "source": [
    "dict = {'k1':\n",
    "     [1,2,\n",
    "      {'k2':\n",
    "       ['this is tricky',{'tough':\n",
    "                          [1,2,\n",
    "                           ['hello']]}]}]}\n",
    "\n",
    "print(dict['k1'][2]['k2'][1]['tough'][2][0])"
   ]
  },
  {
   "cell_type": "markdown",
   "id": "ea7b3eed",
   "metadata": {},
   "source": [
    "Strings\n",
    "Given the string 'hello' give an index command that returns 'e'. Enter your code in the cell below:"
   ]
  },
  {
   "cell_type": "code",
   "execution_count": 70,
   "id": "6eaa8b13",
   "metadata": {},
   "outputs": [
    {
     "name": "stdout",
     "output_type": "stream",
     "text": [
      "e\n"
     ]
    }
   ],
   "source": [
    "# Print out 'e' using indexing\n",
    "\n",
    "s = 'hello'\n",
    "print(s [1])"
   ]
  },
  {
   "cell_type": "code",
   "execution_count": 82,
   "id": "4ac74d70",
   "metadata": {},
   "outputs": [
    {
     "name": "stdout",
     "output_type": "stream",
     "text": [
      "olleh\n"
     ]
    }
   ],
   "source": [
    "s ='hello'\n",
    "# Reverse the string using slicing\n",
    "print(s[::-1])"
   ]
  },
  {
   "cell_type": "markdown",
   "id": "511e46c2",
   "metadata": {},
   "source": [
    "Given the string hello, give two methods of producing the letter 'o' using indexing."
   ]
  },
  {
   "cell_type": "code",
   "execution_count": 87,
   "id": "08e785b3",
   "metadata": {},
   "outputs": [
    {
     "name": "stdout",
     "output_type": "stream",
     "text": [
      "4\n",
      "4\n"
     ]
    }
   ],
   "source": [
    "# Print out the 'o'\n",
    "s ='hello'\n",
    "# Method 1:\n",
    "x = s.rfind('o')\n",
    "print(x)\n",
    "x = s.rindex('o')\n",
    "print(x)"
   ]
  },
  {
   "cell_type": "markdown",
   "id": "d9b459a1",
   "metadata": {},
   "source": [
    "## Lists"
   ]
  },
  {
   "cell_type": "markdown",
   "id": "9e2fc87b",
   "metadata": {},
   "source": [
    "Build this list [0,0,0] two separate ways."
   ]
  },
  {
   "cell_type": "code",
   "execution_count": 89,
   "id": "393b6ea3",
   "metadata": {},
   "outputs": [
    {
     "name": "stdout",
     "output_type": "stream",
     "text": [
      "[0, 0, 0]\n"
     ]
    }
   ],
   "source": [
    "#Build this list [0,0,0] two separate ways.\n",
    "# Method 1:\n",
    "\n",
    "[0,0,0]\n",
    "print([0]*3)"
   ]
  },
  {
   "cell_type": "code",
   "execution_count": 90,
   "id": "bec1403c",
   "metadata": {},
   "outputs": [
    {
     "name": "stdout",
     "output_type": "stream",
     "text": [
      "[0, 0, 0]\n"
     ]
    }
   ],
   "source": [
    "# Method 2:\n",
    "new_list = [0,0,0]\n",
    "print(new_list)"
   ]
  },
  {
   "cell_type": "markdown",
   "id": "7b8f5ce3",
   "metadata": {},
   "source": [
    "Reassign 'hello' in this nested list to say 'goodbye' instead:"
   ]
  },
  {
   "cell_type": "code",
   "execution_count": 100,
   "id": "163d487d",
   "metadata": {},
   "outputs": [
    {
     "name": "stdout",
     "output_type": "stream",
     "text": [
      "[1, 2, [3, 4, 'goodbye']]\n"
     ]
    }
   ],
   "source": [
    "list3 = [1,2,[3,4,'hello']]\n",
    "list3[2][2] = 'goodbye'\n",
    "print(list3)"
   ]
  },
  {
   "cell_type": "markdown",
   "id": "7a2890ba",
   "metadata": {},
   "source": [
    "Sort the list below:"
   ]
  },
  {
   "cell_type": "code",
   "execution_count": 102,
   "id": "81b525ca",
   "metadata": {},
   "outputs": [
    {
     "name": "stdout",
     "output_type": "stream",
     "text": [
      "[1, 3, 4, 5, 6]\n"
     ]
    }
   ],
   "source": [
    "list4 = [5,3,4,6,1]\n",
    "list4.sort()\n",
    "print(list4)"
   ]
  },
  {
   "cell_type": "markdown",
   "id": "78a210f9",
   "metadata": {},
   "source": [
    "** Given the variables:**\n",
    "\n",
    "    planet = \"Earth\"\n",
    "    diameter = 12742\n",
    "\n",
    "** Use .format() to print the following string: **\n",
    "\n",
    "    The diameter of Earth is 12742 kilometers."
   ]
  },
  {
   "cell_type": "code",
   "execution_count": 107,
   "id": "dbd0e89a",
   "metadata": {
    "scrolled": true
   },
   "outputs": [
    {
     "name": "stdout",
     "output_type": "stream",
     "text": [
      "The diameter of Earth is 12742 kilometers.\n"
     ]
    }
   ],
   "source": [
    "### Thats taken too much time too for thinking and searching\n",
    "planet = \"Earth\"\n",
    "diameter = 12742\n",
    "print(\"The diameter of {} is {} kilometers.\".format(planet,diameter))"
   ]
  },
  {
   "cell_type": "markdown",
   "id": "b1c5ff11",
   "metadata": {},
   "source": [
    "** Given this nested list, use indexing to grab the word \"hello\" **"
   ]
  },
  {
   "cell_type": "code",
   "execution_count": 109,
   "id": "52d797d7",
   "metadata": {},
   "outputs": [
    {
     "name": "stdout",
     "output_type": "stream",
     "text": [
      "hello\n"
     ]
    }
   ],
   "source": [
    "lst = [1,2,[3,4],[5,[100,200,['hello']],23,11],1,7]\n",
    "print(lst[3][1][2][0])"
   ]
  },
  {
   "cell_type": "markdown",
   "id": "3873be27",
   "metadata": {},
   "source": [
    "** Given this nested dictionary grab the word \"hello\". **"
   ]
  },
  {
   "cell_type": "code",
   "execution_count": 110,
   "id": "cb1f15a3",
   "metadata": {},
   "outputs": [
    {
     "name": "stdout",
     "output_type": "stream",
     "text": [
      "hello\n"
     ]
    }
   ],
   "source": [
    "d = {'k1':[1,2,3,{'tricky':['oh','man','inception',{'target':[1,2,3,'hello']}]}]}\n",
    "print(d['k1'][3]['tricky'][3]['target'][3])"
   ]
  },
  {
   "cell_type": "code",
   "execution_count": 111,
   "id": "637a9132",
   "metadata": {},
   "outputs": [],
   "source": []
  },
  {
   "cell_type": "code",
   "execution_count": null,
   "id": "c74c6905",
   "metadata": {},
   "outputs": [],
   "source": []
  },
  {
   "cell_type": "code",
   "execution_count": null,
   "id": "e8e1b708",
   "metadata": {},
   "outputs": [],
   "source": []
  },
  {
   "cell_type": "code",
   "execution_count": null,
   "id": "6c5aab2b",
   "metadata": {},
   "outputs": [],
   "source": []
  }
 ],
 "metadata": {
  "kernelspec": {
   "display_name": "Python 3 (ipykernel)",
   "language": "python",
   "name": "python3"
  },
  "language_info": {
   "codemirror_mode": {
    "name": "ipython",
    "version": 3
   },
   "file_extension": ".py",
   "mimetype": "text/x-python",
   "name": "python",
   "nbconvert_exporter": "python",
   "pygments_lexer": "ipython3",
   "version": "3.9.12"
  }
 },
 "nbformat": 4,
 "nbformat_minor": 5
}
