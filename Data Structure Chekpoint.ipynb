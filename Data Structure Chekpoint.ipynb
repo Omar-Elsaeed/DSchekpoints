{
 "cells": [
  {
   "cell_type": "code",
   "execution_count": null,
   "id": "a5db7e88",
   "metadata": {},
   "outputs": [],
   "source": [
    "my_list = [2,3,6]\n",
    "result = 1\n",
    "for i in my_list:\n",
    "    result = result * i\n",
    "print(result)"
   ]
  },
  {
   "cell_type": "code",
   "execution_count": null,
   "id": "dcfb98ed",
   "metadata": {},
   "outputs": [],
   "source": [
    "def my_list(num): return num[-1]\n",
    "number = [(2, 5), (1, 2), (4, 4), (2, 3), (2, 1)]\n",
    "sorted_list = sorted(number, key= my_list)\n",
    "print(sorted_list)"
   ]
  },
  {
   "cell_type": "code",
   "execution_count": null,
   "id": "be546d35",
   "metadata": {},
   "outputs": [],
   "source": [
    "def last(n): return n[-1]\n",
    "def sort_list_last(tuples):\n",
    "    return sorted(tuples, key=last)\n",
    "print(sort_list_last([(2, 5), (1, 2), (4, 4), (2, 3), (2, 1)]))\n"
   ]
  },
  {
   "cell_type": "code",
   "execution_count": null,
   "id": "acee8988",
   "metadata": {},
   "outputs": [],
   "source": [
    "num=int(input(\"Enter a Number: \"))\n",
    "dc={x:x*x for x in range(1,num+1)}\n",
    "print(dc)"
   ]
  },
  {
   "cell_type": "code",
   "execution_count": null,
   "id": "9f561a44",
   "metadata": {},
   "outputs": [],
   "source": [
    "count = [('item1', 12.20), ('item2', 15.10), ('item3', 24.5)]\n",
    "print( sorted(count, key=lambda x: float(x[1]), reverse=True))"
   ]
  }
 ],
 "metadata": {
  "kernelspec": {
   "display_name": "Python 3 (ipykernel)",
   "language": "python",
   "name": "python3"
  },
  "language_info": {
   "codemirror_mode": {
    "name": "ipython",
    "version": 3
   },
   "file_extension": ".py",
   "mimetype": "text/x-python",
   "name": "python",
   "nbconvert_exporter": "python",
   "pygments_lexer": "ipython3",
   "version": "3.9.7"
  }
 },
 "nbformat": 4,
 "nbformat_minor": 5
}
