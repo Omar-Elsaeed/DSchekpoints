{
 "cells": [
  {
   "cell_type": "code",
   "execution_count": 2,
   "id": "c10faadb",
   "metadata": {},
   "outputs": [
    {
     "name": "stdout",
     "output_type": "stream",
     "text": [
      "What is Python language?                                                \n",
      "Python is a widely used high-level, general-purpose, interpreted, dynamic programming language.Its design philosophy emphasizes code readability, and its syntax allows programmers to express concepts in fewer lines of code than possible in \n",
      "languages such as C++ or Java. \n",
      "Python supports multiple programming paradigms, including object-oriented, imperative and functional programming or procedural styles. It features a dynamic type system and automatic memory management and has a large and comprehensive standard library.The best way we learn anything is by practice and exercise questions. We  have started this section for those (beginner to intermediate) who are familiar with Python.\n"
     ]
    }
   ],
   "source": [
    "#first question (File Handling)\n",
    "fie = open(r\"D:\\lemo\\pythonProject\\python.txt\",\"r\")\n",
    "print(fie.read())"
   ]
  },
  {
   "cell_type": "code",
   "execution_count": 35,
   "id": "e6fe54b5",
   "metadata": {},
   "outputs": [
    {
     "name": "stdout",
     "output_type": "stream",
     "text": [
      "What is Python language?                                                \n",
      "\n"
     ]
    }
   ],
   "source": [
    "#Second question (File Handling)\n",
    "fie = open(r\"D:\\lemo\\pythonProject\\python.txt\",\"r\")\n",
    "print(fie.readline())"
   ]
  },
  {
   "cell_type": "code",
   "execution_count": 33,
   "id": "f5a56ea4",
   "metadata": {},
   "outputs": [
    {
     "name": "stdout",
     "output_type": "stream",
     "text": [
      "imperative and functional programming or procedural styles. It features a dynamic type system and automatic memory management and has a large and comprehensive standard library.The best way we learn anything is by practice and exercise questions. We  have started this section for those (beginner to intermediate) who are familiar with Python.\n"
     ]
    }
   ],
   "source": [
    "#Third question (File Handling)\n",
    "fie = open(r\"D:\\lemo\\pythonProject\\python.txt\",\"r\")\n",
    "print(fie.readlines()[-1])"
   ]
  },
  {
   "cell_type": "code",
   "execution_count": 65,
   "id": "c1f8b3cb",
   "metadata": {
    "scrolled": true
   },
   "outputs": [
    {
     "name": "stdout",
     "output_type": "stream",
     "text": [
      "What is Python language?                                                \n",
      "Python is a widely used high-level,\n",
      "general-purpose,\n",
      "interpreted,\n",
      "dynamic programming language.Its design philosophy emphasizes code readability,\n",
      "and its syntax allows programmers to express concepts in fewer lines of code than possible in \n",
      "languages such as C++ or Java. \n",
      "Python supports multiple programming paradigms, \n",
      "including object-oriented, \n",
      "imperative and functional programming or procedural styles. It features a dynamic type system and automatic memory management and has a large and comprehensive standard library.The best way we learn anything is by practice and exercise questions. We  have started this section for those (beginner to intermediate) who are familiar with Python."
     ]
    }
   ],
   "source": [
    "#For eXtra's\n",
    "fie = open(r\"D:\\lemo\\pythonProject\\python.txt\",\"r\")\n",
    "for line in fie:\n",
    "       print(line, end = '')"
   ]
  },
  {
   "cell_type": "code",
   "execution_count": 7,
   "id": "60e50b99",
   "metadata": {},
   "outputs": [
    {
     "name": "stdout",
     "output_type": "stream",
     "text": [
      "Number of words present in given file: 153\n"
     ]
    }
   ],
   "source": [
    "#Fourth question (File Handling)\n",
    "count = 0;  \n",
    "file = open(r\"D:\\lemo\\pythonProject\\python.txt\", \"r\")  \n",
    "for line in file:     \n",
    "    words=line.split(\" \");    \n",
    "    count=count+len(words); \n",
    "print(\"Number of words present in given file: \" + str(count));  \n",
    "file.close();  "
   ]
  },
  {
   "cell_type": "code",
   "execution_count": null,
   "id": "b621f57a",
   "metadata": {},
   "outputs": [],
   "source": []
  }
 ],
 "metadata": {
  "kernelspec": {
   "display_name": "Python 3 (ipykernel)",
   "language": "python",
   "name": "python3"
  },
  "language_info": {
   "codemirror_mode": {
    "name": "ipython",
    "version": 3
   },
   "file_extension": ".py",
   "mimetype": "text/x-python",
   "name": "python",
   "nbconvert_exporter": "python",
   "pygments_lexer": "ipython3",
   "version": "3.9.7"
  }
 },
 "nbformat": 4,
 "nbformat_minor": 5
}
