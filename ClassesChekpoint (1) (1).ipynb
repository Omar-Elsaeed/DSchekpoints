{
 "cells": [
  {
   "cell_type": "code",
   "execution_count": 1,
   "id": "c4670e87",
   "metadata": {},
   "outputs": [
    {
     "name": "stdout",
     "output_type": "stream",
     "text": [
      "<__main__.Point3D object at 0x0000008EFABA24F0>\n"
     ]
    }
   ],
   "source": [
    "class Point3D(object):\n",
    "    def __init__(self, x, y, z):\n",
    "        self.x = x\n",
    "        self.y = y\n",
    "        self.z = z\n",
    "    def __reper__(self):\n",
    "        return \"(%d, %d, %d)\" % (self.x, self.y, self.z)\n",
    "my_point = Point3D(1,2,3)\n",
    "\n",
    "print(my_point)"
   ]
  },
  {
   "cell_type": "code",
   "execution_count": 21,
   "id": "2a6d5709",
   "metadata": {},
   "outputs": [
    {
     "name": "stdout",
     "output_type": "stream",
     "text": [
      "12 14\n"
     ]
    }
   ],
   "source": [
    "class Rectangle():\n",
    "    def __init__(self, l, w):\n",
    "        self.length = l\n",
    "        self.width  = w\n",
    "\n",
    "    def rectangle_area(self):\n",
    "        return self.length*self.width\n",
    "\n",
    "    \n",
    "    def calculate_perimeter(self):\n",
    "        return 2*(self.width + self.length)\n",
    "my_rectangle = Rectangle(4, 3)\n",
    "newRectangle = Rectangle(4, 3)\n",
    "print(newRectangle.rectangle_area(), my_rectangle.calculate_perimeter())\n"
   ]
  },
  {
   "cell_type": "code",
   "execution_count": null,
   "id": "3ac52ab8",
   "metadata": {},
   "outputs": [],
   "source": [
    "class rectangle():\n",
    "    def __init__(self, breadth, length):\n",
    "        self.breadth = breadth\n",
    "        self.length = length\n",
    "    def area(self):\n",
    "        return self.breadth * self.length\n",
    "a = int(input(\"Enter length of rectangle: \"))\n",
    "b = int(input(\"Enter breadth of rectangle: \"))\n",
    "obj = rectangle(a, b)\n",
    "print(\"Area of rectangle:\", obj.area())"
   ]
  },
  {
   "cell_type": "code",
   "execution_count": 4,
   "id": "25f37ef0",
   "metadata": {},
   "outputs": [
    {
     "name": "stdout",
     "output_type": "stream",
     "text": [
      "200.96\n",
      "50.24\n"
     ]
    }
   ],
   "source": [
    "class Circle():\n",
    "    def __init__(self, r):\n",
    "        self.radius = r \n",
    "    def area(self):\n",
    "        return self.radius**2*3.14\n",
    "    def perimeter(self):\n",
    "        return 2*self.radius*3.14\n",
    "    def formEquation (self, x, y):\n",
    "        return (x-self.a)**2 + (y-self.b)**2 - self.r**2\n",
    "    def test_belong (self, x, y):\n",
    "        if (self.formEquation (x, y) == 0):\n",
    "            print (\"the point: (\", x, y, \") belongs to the circle C\")\n",
    "        else:\n",
    "            print (\"the point: (\", x, y, \") does not belong to the circle C\")\n",
    "            \n",
    "    \n",
    "NewCircle = Circle(8)\n",
    "print(NewCircle.area())\n",
    "print(NewCircle.perimeter())\n"
   ]
  },
  {
   "cell_type": "code",
   "execution_count": 5,
   "id": "3c8d67e9",
   "metadata": {},
   "outputs": [
    {
     "name": "stdout",
     "output_type": "stream",
     "text": [
      "the perimeter of the circle C is: 6.283185307179586\n",
      "the area of circle C is: 3.141592653589793\n",
      "the point: ( 1 1 ) belongs to the circle C\n"
     ]
    }
   ],
   "source": [
    "from math import pi\n",
    "class Circle:\n",
    "    def __init__(self, a, b, r):\n",
    "        self.a = a\n",
    "        self.b = b\n",
    "        self.r = r\n",
    "\n",
    "    def perimeter (self):\n",
    "        return  2 * pi * self.r\n",
    "    def area (self):\n",
    "        return  pi * self.r**2\n",
    "    def formEquation (self, x, y):\n",
    "        return (x-self.a)**2 + (y-self.b)**2 - self.r**2\n",
    "    def test_belong (self, x, y):\n",
    "        if (self.formEquation (x, y) == 0):\n",
    "            print (\"the point: (\", x, y, \") belongs to the circle C\")\n",
    "        else:\n",
    "            print (\"the point: (\", x, y, \") does not belong to the circle C\")\n",
    "C = Circle (1,2,1)\n",
    "\n",
    "print (\"the perimeter of the circle C is:\", C.perimeter() )\n",
    "print (\"the area of circle C is:\", C.area())\n",
    "C.test_belong(1,1) "
   ]
  },
  {
   "cell_type": "code",
   "execution_count": 5,
   "id": "b6c2ecd3",
   "metadata": {},
   "outputs": [],
   "source": [
    "class Bank():\n",
    "    def __init__(self):\n",
    "        self.balance=0\n",
    "        print(\"Hello!!!\")\n",
    "        \n",
    "    def deposit(self):\n",
    "        amount=float(input(\"Enter amount to be Deposited: \"))\n",
    "        self.balance += amount\n",
    "        print(\"\\n Amount Deposited: \",amount)\n",
    "    def withdraw(self):\n",
    "        amount = float(input(\"Enter Amount to be withdraw: \"))\n",
    "        if self.balance>=amount:\n",
    "            self.balance-=amount\n",
    "            print(\"\\n You withdraw:\", amount)\n",
    "        else:\n",
    "            print(\"\\n Insufficient balance \")\n",
    "            \n",
    "    def display(self):\n",
    "        print(\"\\n Net Avilable balance=\",self.balance)\n",
    "New_bank = Bank()\n",
    "New_bank.deposit()\n",
    "New_bank.withdraw()\n",
    "New_bank.display()"
   ]
  },
  {
   "cell_type": "code",
   "execution_count": null,
   "id": "b8a1a157",
   "metadata": {},
   "outputs": [],
   "source": []
  }
 ],
 "metadata": {
  "kernelspec": {
   "display_name": "Python 3 (ipykernel)",
   "language": "python",
   "name": "python3"
  },
  "language_info": {
   "codemirror_mode": {
    "name": "ipython",
    "version": 3
   },
   "file_extension": ".py",
   "mimetype": "text/x-python",
   "name": "python",
   "nbconvert_exporter": "python",
   "pygments_lexer": "ipython3",
   "version": "3.9.7"
  }
 },
 "nbformat": 4,
 "nbformat_minor": 5
}
