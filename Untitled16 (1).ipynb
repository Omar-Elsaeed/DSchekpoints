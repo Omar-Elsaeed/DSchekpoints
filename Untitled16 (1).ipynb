{
 "cells": [
  {
   "cell_type": "code",
   "execution_count": 2,
   "id": "f71bcc25",
   "metadata": {},
   "outputs": [
    {
     "name": "stdout",
     "output_type": "stream",
     "text": [
      "array('i', [1, 3, 5, 3, 7, 1, 9, 3])\n",
      "[1, 3, 5, 3, 7, 1, 9, 3]\n"
     ]
    }
   ],
   "source": [
    "from array import *\n",
    "array_num = array('i', [1, 3, 5, 3, 7, 1, 9, 3])\n",
    "print(str(array_num))\n",
    "num_list = array_num.tolist()\n",
    "print(num_list)"
   ]
  },
  {
   "cell_type": "code",
   "execution_count": 13,
   "id": "0516c5d8",
   "metadata": {},
   "outputs": [
    {
     "name": "stdout",
     "output_type": "stream",
     "text": [
      "[20, 30, 40]\n"
     ]
    }
   ],
   "source": [
    "from array import *\n",
    "def my_Array(array_Ele):\n",
    "    my_list = array_Ele.tolist()\n",
    "    print(my_list)\n",
    "        \n",
    "array_Ele = array('h', [20,30,40])\n",
    "my_Array(array_Ele)\n"
   ]
  },
  {
   "cell_type": "code",
   "execution_count": 22,
   "id": "ee158b62",
   "metadata": {},
   "outputs": [
    {
     "name": "stdout",
     "output_type": "stream",
     "text": [
      "[[0 1 2]\n",
      " [3 4 5]]\n",
      "4\n"
     ]
    }
   ],
   "source": [
    "import numpy as np\n",
    "m = np.arange(6).reshape(2,3)\n",
    "print(m)\n",
    "result =  np.trace(m)\n",
    "print(result)"
   ]
  },
  {
   "cell_type": "code",
   "execution_count": 24,
   "id": "9c200e8c",
   "metadata": {},
   "outputs": [
    {
     "name": "stdout",
     "output_type": "stream",
     "text": [
      "Given Array:\n",
      " [[ 1  2  3  4  5]\n",
      " [10 -3 30  4  5]\n",
      " [ 3  2  5 -4  5]\n",
      " [ 9  7  3  6  5]]\n",
      "Result:\n",
      " (array([1, 3], dtype=int64),)\n"
     ]
    }
   ],
   "source": [
    "import numpy\n",
    "arr = numpy.array([[1, 2, 3, 4, 5],\n",
    "                  [10, -3, 30, 4, 5],\n",
    "                  [3, 2, 5, -4, 5],\n",
    "                  [9, 7, 3, 6, 5] \n",
    "                 ])\n",
    "X = 6\n",
    "print(\"Given Array:\\n\", arr)\n",
    "output  = numpy.where(numpy.any(arr > X,\n",
    "                                axis = 1))\n",
    "print(\"Result:\\n\", output)"
   ]
  },
  {
   "cell_type": "code",
   "execution_count": 26,
   "id": "0154a0ff",
   "metadata": {},
   "outputs": [
    {
     "name": "stdout",
     "output_type": "stream",
     "text": [
      "Original matrix:\n",
      "\n",
      "[[0.58965741 0.68470273 0.10895996 0.14036005 0.36351772 0.29770428\n",
      "  0.57926281 0.09260189 0.0686087  0.03400799]\n",
      " [0.83280239 0.56194232 0.76003185 0.29630468 0.02008839 0.5973368\n",
      "  0.22337699 0.8650217  0.83060188 0.94859426]\n",
      " [0.23124903 0.14542421 0.10816783 0.62867779 0.1872307  0.08178046\n",
      "  0.9646036  0.24448463 0.15290322 0.45636795]\n",
      " [0.79149241 0.27550494 0.84179926 0.71763244 0.89083601 0.59518581\n",
      "  0.69966101 0.1631874  0.82991458 0.7354653 ]\n",
      " [0.36673164 0.06084313 0.43489619 0.34061253 0.4670105  0.4877453\n",
      "  0.02118627 0.3197745  0.05779417 0.33354384]]\n",
      "\n",
      "Subtract the mean of each row of the said matrix:\n",
      "\n",
      "[[ 0.29371906  0.38876437 -0.18697839 -0.1555783   0.06757936  0.00176592\n",
      "   0.28332446 -0.20333646 -0.22732966 -0.26193037]\n",
      " [ 0.23919227 -0.03166781  0.16642172 -0.29730545 -0.57352173  0.00372667\n",
      "  -0.37023313  0.27141157  0.23699175  0.35498414]\n",
      " [-0.08883991 -0.17466474 -0.21192111  0.30858885 -0.13285824 -0.23830848\n",
      "   0.64451466 -0.07560432 -0.16718572  0.13627901]\n",
      " [ 0.13742449 -0.37856298  0.18773135  0.06356453  0.23676809 -0.0588821\n",
      "   0.04559309 -0.49088052  0.17584666  0.08139738]\n",
      " [ 0.07771783 -0.22817067  0.14588238  0.05159873  0.17799669  0.19873149\n",
      "  -0.26782754  0.0307607  -0.23121963  0.04453003]]\n"
     ]
    }
   ],
   "source": [
    "import numpy as np\n",
    "print(\"Original matrix:\\n\")\n",
    "X = np.random.rand(5, 10)\n",
    "print(X)\n",
    "print(\"\\nSubtract the mean of each row of the said matrix:\\n\")\n",
    "Y = X - X.mean(axis=1, keepdims=True)\n",
    "print(Y)"
   ]
  },
  {
   "cell_type": "code",
   "execution_count": 5,
   "id": "0973a67e",
   "metadata": {},
   "outputs": [
    {
     "name": "stdout",
     "output_type": "stream",
     "text": [
      "[array([ 9, 11, 13])]\n"
     ]
    }
   ],
   "source": [
    "import numpy as np\n",
    "a = np.array([3,4,5])\n",
    "b = np.array([6,7,8])\n",
    "c = a + b\n",
    "print([c])"
   ]
  },
  {
   "cell_type": "code",
   "execution_count": 24,
   "id": "69d3e960",
   "metadata": {
    "scrolled": true
   },
   "outputs": [
    {
     "name": "stdout",
     "output_type": "stream",
     "text": [
      "['Inter your element: ', array([3, 4, 5]), array([6, 7, 8])][9 ,10 ,11]\n",
      "[9 ,10 ,11]\n"
     ]
    }
   ],
   "source": [
    "import numpy as np \n",
    "\n",
    "a = np.array([3,4,5])\n",
    "b = np.array([6,7,8])\n",
    "def addintion(a,b):\n",
    "    c = input([\"Inter your element: \"] + [a , b])\n",
    "    print(c)\n",
    "addintion(a,b)  \n",
    " "
   ]
  },
  {
   "cell_type": "code",
   "execution_count": null,
   "id": "b731477f",
   "metadata": {},
   "outputs": [],
   "source": []
  }
 ],
 "metadata": {
  "kernelspec": {
   "display_name": "Python 3 (ipykernel)",
   "language": "python",
   "name": "python3"
  },
  "language_info": {
   "codemirror_mode": {
    "name": "ipython",
    "version": 3
   },
   "file_extension": ".py",
   "mimetype": "text/x-python",
   "name": "python",
   "nbconvert_exporter": "python",
   "pygments_lexer": "ipython3",
   "version": "3.9.7"
  }
 },
 "nbformat": 4,
 "nbformat_minor": 5
}
